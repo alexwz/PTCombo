{
  "nbformat": 4,
  "nbformat_minor": 0,
  "metadata": {
    "colab": {
      "name": "Load datastes from conllu.ipynb",
      "version": "0.3.2",
      "provenance": []
    },
    "kernelspec": {
      "name": "python3",
      "display_name": "Python 3"
    }
  },
  "cells": [
    {
      "cell_type": "markdown",
      "metadata": {
        "id": "WtXgSCEXydOJ",
        "colab_type": "text"
      },
      "source": [
        "## Mount the Drive"
      ]
    },
    {
      "cell_type": "code",
      "metadata": {
        "id": "w2Y0RyMtxK6h",
        "colab_type": "code",
        "colab": {}
      },
      "source": [
        "# Run this cell to mount your Google Drive.\n",
        "from google.colab import drive\n",
        "drive.mount('/content/drive')"
      ],
      "execution_count": 0,
      "outputs": []
    },
    {
      "cell_type": "markdown",
      "metadata": {
        "id": "kb66wcjOymvH",
        "colab_type": "text"
      },
      "source": [
        "## Unpack the files\n",
        "https://drive.google.com/file/d/1BQ8pSY7U61G_zu99mg8WkB9M2GK1oQC4/view\n",
        "\n",
        "The tar.gz file should be available in '/content/drive/My Drive'.\n",
        "\n",
        "The data is only availabe in the running session."
      ]
    },
    {
      "cell_type": "code",
      "metadata": {
        "id": "TGpjo8WAwhzm",
        "colab_type": "code",
        "colab": {}
      },
      "source": [
        "!tar -zxvf '/content/drive/My Drive/UD.tar.gz'"
      ],
      "execution_count": 0,
      "outputs": []
    },
    {
      "cell_type": "code",
      "metadata": {
        "id": "zZdpEvmZx-LE",
        "colab_type": "code",
        "colab": {}
      },
      "source": [
        "!ls '/content/UD/PL'"
      ],
      "execution_count": 0,
      "outputs": []
    },
    {
      "cell_type": "markdown",
      "metadata": {
        "id": "irfAxXVszSSH",
        "colab_type": "text"
      },
      "source": [
        "## Install and use conllu\n",
        "https://github.com/EmilStenstrom/conllu\n",
        "\n",
        "About conllu: https://universaldependencies.org/format.html"
      ]
    },
    {
      "cell_type": "code",
      "metadata": {
        "id": "OBk3kgtxv4xw",
        "colab_type": "code",
        "colab": {}
      },
      "source": [
        "!pip install conllu"
      ],
      "execution_count": 0,
      "outputs": []
    },
    {
      "cell_type": "code",
      "metadata": {
        "id": "d-DQMVCXv94f",
        "colab_type": "code",
        "colab": {}
      },
      "source": [
        "from io import open\n",
        "from conllu import parse_incr, parse"
      ],
      "execution_count": 0,
      "outputs": []
    },
    {
      "cell_type": "markdown",
      "metadata": {
        "id": "CxsQhjwH4pWx",
        "colab_type": "text"
      },
      "source": [
        "### To List (sentences) of TokenLists (each word separately) of OrderedDicts (word characteristics)"
      ]
    },
    {
      "cell_type": "code",
      "metadata": {
        "id": "yWttdRUfwd7Q",
        "colab_type": "code",
        "colab": {}
      },
      "source": [
        "data_file = open(\"/content/UD/PL/pl_sz-ud-train.conllu\", \"r\", encoding=\"utf-8\")\n",
        "for tokenlist in parse_incr(data_file):\n",
        "  for i in range(len(tokenlist)):\n",
        "    print(tokenlist[i])\n",
        "  print(\"\")"
      ],
      "execution_count": 0,
      "outputs": []
    }
  ]
}