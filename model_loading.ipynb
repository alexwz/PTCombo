{
  "nbformat": 4,
  "nbformat_minor": 0,
  "metadata": {
    "colab": {
      "name": "Copy of 1.ipynb",
      "version": "0.3.2",
      "provenance": [],
      "include_colab_link": true
    },
    "kernelspec": {
      "name": "python3",
      "display_name": "Python 3"
    },
    "accelerator": "GPU"
  },
  "cells": [
    {
      "cell_type": "markdown",
      "metadata": {
        "id": "view-in-github",
        "colab_type": "text"
      },
      "source": [
        "<a href=\"https://colab.research.google.com/github/alexwz/PTCombo/blob/master/model_loading.ipynb\" target=\"_parent\"><img src=\"https://colab.research.google.com/assets/colab-badge.svg\" alt=\"Open In Colab\"/></a>"
      ]
    },
    {
      "cell_type": "markdown",
      "metadata": {
        "id": "9VVAWpf494Jz",
        "colab_type": "text"
      },
      "source": [
        "### Import bibliotek"
      ]
    },
    {
      "cell_type": "code",
      "metadata": {
        "id": "Gws2JXUfHckt",
        "colab_type": "code",
        "colab": {
          "base_uri": "https://localhost:8080/",
          "height": 34
        },
        "outputId": "51e6f66a-2319-473e-e078-d4da53176809"
      },
      "source": [
        "from google.colab import drive\n",
        "drive.mount('/content/gdrive/')\n",
        "\n",
        "from google.colab import drive\n",
        "import fastai\n",
        "#from fastai import *\n",
        "#from fastai.text import * \n",
        "import pandas as pd\n",
        "import numpy as np\n",
        "from functools import partial\n",
        "import io\n",
        "import os\n",
        "\n",
        "import torch\n",
        "import numpy as np\n",
        "import torch\n",
        "import torch.nn as nn\n",
        "\n",
        "#from fastai.vision import *\n",
        "from google.colab import files\n",
        "#!pip install conllu\n",
        "#from conllu import parse_incr, parse\n",
        "\n"
      ],
      "execution_count": 59,
      "outputs": [
        {
          "output_type": "stream",
          "text": [
            "Drive already mounted at /content/gdrive/; to attempt to forcibly remount, call drive.mount(\"/content/gdrive/\", force_remount=True).\n"
          ],
          "name": "stdout"
        }
      ]
    },
    {
      "cell_type": "markdown",
      "metadata": {
        "id": "8AP3izYt7GRf",
        "colab_type": "text"
      },
      "source": [
        "### Ładowanie stanu pretrenowanego modelu:"
      ]
    },
    {
      "cell_type": "code",
      "metadata": {
        "id": "7MUvpddJPLGE",
        "colab_type": "code",
        "colab": {}
      },
      "source": [
        "device = torch.device('cuda')\n",
        "path = Path('/content/gdrive/My Drive/v50knl4.tar.zip (Unzipped Files)/work/up_low50k/models/fwd_v50k_finetune_lm_enc.h5')\n",
        "state = torch.load(path, map_location=device)"
      ],
      "execution_count": 0,
      "outputs": []
    },
    {
      "cell_type": "markdown",
      "metadata": {
        "id": "-1jklBVK7Sdc",
        "colab_type": "text"
      },
      "source": [
        "### Ładowaie stanu pretrenowanego modelu do modelu językowego AWD_LSTM o takich samych parametrach:"
      ]
    },
    {
      "cell_type": "code",
      "metadata": {
        "id": "JIZglMXVPLFS",
        "colab_type": "code",
        "colab": {
          "base_uri": "https://localhost:8080/",
          "height": 170
        },
        "outputId": "f2e7515a-8ff1-4acf-aeef-92a611e53fd7"
      },
      "source": [
        "model = text.models.AWD_LSTM(50000,400,0, 0)\n",
        "model.load_state_dict(state, strict = False )    \n",
        "model.eval()\n"
      ],
      "execution_count": 58,
      "outputs": [
        {
          "output_type": "execute_result",
          "data": {
            "text/plain": [
              "AWD_LSTM(\n",
              "  (encoder): Embedding(50000, 400, padding_idx=1)\n",
              "  (encoder_dp): EmbeddingDropout(\n",
              "    (emb): Embedding(50000, 400, padding_idx=1)\n",
              "  )\n",
              "  (rnns): ModuleList()\n",
              "  (input_dp): RNNDropout()\n",
              "  (hidden_dps): ModuleList()\n",
              ")"
            ]
          },
          "metadata": {
            "tags": []
          },
          "execution_count": 58
        }
      ]
    },
    {
      "cell_type": "markdown",
      "metadata": {
        "id": "h6G2NqD37eGt",
        "colab_type": "text"
      },
      "source": [
        "### Odczytywanie danych językowych z pliku csv:\n",
        "zmieniłem rozszerzenie pliku z conllu na csv, nic to nie zmieniło, nadal nie działa jak nie działało, można sobie napisać .conllu w nazwie ścieżki zamiast csv\n",
        "\n",
        "###Uwaga\n",
        "aby móc załadować pliki z danymi, należy najpierw dodać do swojego dysku google pliki przy pomocy poniższego linku:\n",
        "https://drive.google.com/open?id=1VRpetk0F8733UFVYDhUMQ6rPAqH-ggbB"
      ]
    },
    {
      "cell_type": "code",
      "metadata": {
        "id": "PJfBUvrbHeTI",
        "colab_type": "code",
        "outputId": "891a257b-e812-4add-f66b-cc0f41504f97",
        "colab": {
          "base_uri": "https://localhost:8080/",
          "height": 187
        }
      },
      "source": [
        "#DWA SPOSOBY NA ZCZYTANIE PLIKU, żaden póki co nie dziala poprawnie, być może jest jakiś inny który zadziała\n",
        "\n",
        "data = pd.read_csv('/content/gdrive/My Drive/UD/PL/pl_sz-ud-train.csv' , error_bad_lines = False, sep = '\\t')\n",
        "\n",
        "#data = TextLMDataBunch.from_csv('/content/gdrive/My Drive/UD/PL','pl_sz-ud-train.csv',min_freq=1,drop_mult=0.5, error_bad_lines = False, engine='python')  \n",
        "                                            #nie chce działać, mówi że expected files = 1 a widział 4 pola.\n",
        "                                            #dopisanie komendy error_bad_lines = False nic nie zmienia, nie naprawia błędu\n",
        "                                            \n",
        "      #Problem jest z 'data'. Widzę dwa potencjalne odpowiedzi -\n",
        "      # 1 - pd.read_csv nie robi tego samego co TextLMDataBunch i przez to nie mamy tego vocab\n",
        "      # 2 - w naszych danych brakuje atrybutu vocab\n",
        "      \n",
        "\n",
        "\n",
        "\n"
      ],
      "execution_count": 54,
      "outputs": [
        {
          "output_type": "stream",
          "text": [
            "IOPub data rate exceeded.\n",
            "The notebook server will temporarily stop sending output\n",
            "to the client in order to avoid crashing it.\n",
            "To change this limit, set the config variable\n",
            "`--NotebookApp.iopub_data_rate_limit`.\n",
            "\n",
            "Current values:\n",
            "NotebookApp.iopub_data_rate_limit=1000000.0 (bytes/sec)\n",
            "NotebookApp.rate_limit_window=3.0 (secs)\n",
            "\n"
          ],
          "name": "stderr"
        }
      ]
    },
    {
      "cell_type": "markdown",
      "metadata": {
        "id": "gty_tN0N7sks",
        "colab_type": "text"
      },
      "source": [
        "### Mapowanie pretrenowanego modelu i danych wejściowych na language_model_learner\n",
        "by sptawdzic jak dziala nasz model i dalej wydłubywać rozwiązanie"
      ]
    },
    {
      "cell_type": "code",
      "metadata": {
        "id": "ro1uHgg3HsbS",
        "colab_type": "code",
        "colab": {}
      },
      "source": [
        "learner = language_model_learner(data, model, drop_mult=0.3)  #Jak się wykomentarzuje, to będzie działało. Póki co jest problem z atrybutem vocab"
      ],
      "execution_count": 0,
      "outputs": []
    },
    {
      "cell_type": "markdown",
      "metadata": {
        "id": "ihN40kSq9ovF",
        "colab_type": "text"
      },
      "source": [
        "### Wstępne trenowanie naszego modelu na danych wejściowych\n",
        "robimy to, by później wydlubać output"
      ]
    },
    {
      "cell_type": "code",
      "metadata": {
        "id": "k-jIFszxHxPA",
        "colab_type": "code",
        "colab": {}
      },
      "source": [
        "learn.fit_one_cycle(1)"
      ],
      "execution_count": 0,
      "outputs": []
    }
  ]
}